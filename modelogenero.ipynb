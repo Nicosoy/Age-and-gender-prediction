{
 "cells": [
  {
   "cell_type": "code",
   "execution_count": 40,
   "metadata": {},
   "outputs": [],
   "source": [
    "# Librerías para manipulación de archivos y rutas en SO\n",
    "import os , os.path\n",
    "\n",
    "# Librerías para manipulación y análisis de datos\n",
    "import pandas as pd\n",
    "import numpy as np\n",
    "import pickle\n",
    "\n",
    "# Librerías para manipulación de imágenes\n",
    "from PIL import Image, ImageOps\n",
    "import PIL\n",
    "import keras.utils as image\n",
    "\n",
    "# Librerías para visualización de datos\n",
    "import seaborn as sns\n",
    "import matplotlib.pyplot as plt\n",
    "\n",
    "# Librerías para preprocesamiento y modelado de datos\n",
    "from sklearn.model_selection import train_test_split\n",
    "from sklearn.preprocessing import LabelBinarizer\n",
    "from sklearn.preprocessing import OneHotEncoder\n",
    "from keras.preprocessing.image import ImageDataGenerator\n",
    "\n",
    "# Librerías para construcción y entrenamiento de modelos de deep learning\n",
    "import tensorflow as tf\n",
    "from keras.models import Sequential\n",
    "from keras.layers import Conv2D, MaxPooling2D, Activation, Dropout, Flatten, Dense, BatchNormalization\n",
    "from keras import optimizers\n",
    "from keras.callbacks import EarlyStopping\n"
   ]
  },
  {
   "cell_type": "markdown",
   "metadata": {},
   "source": [
    "Cargamos la base de datos previamente generada en el archivo .py"
   ]
  },
  {
   "cell_type": "code",
   "execution_count": 2,
   "metadata": {},
   "outputs": [],
   "source": [
    "with open('my_dataframe.pkl', 'rb') as file:\n",
    "    df = pickle.load(file)"
   ]
  },
  {
   "cell_type": "markdown",
   "metadata": {},
   "source": [
    "Hacemos un recuento de los generos."
   ]
  },
  {
   "cell_type": "code",
   "execution_count": 3,
   "metadata": {},
   "outputs": [
    {
     "data": {
      "image/png": "[encoded data removed]",
      "text/plain": [
       "<Figure size 800x600 with 1 Axes>"
      ]
     },
     "metadata": {},
     "output_type": "display_data"
    }
   ],
   "source": [
    "# Calcula el recuento de valores únicos en la columna 'Genders' del DataFrame 'df'\n",
    "recuento_genero = df['Genders'].value_counts()\n",
    "\n",
    "# Crea un gráfico de barras para visualizar el recuento de géneros\n",
    "plt.figure(figsize=(8, 6))  # Establece el tamaño de la figura\n",
    "recuento_genero.plot(kind='bar', color='skyblue')  # Crea el gráfico de barras\n",
    "plt.title('Recuento de Género')  # Establece el título del gráfico\n",
    "plt.xlabel('Género')  # Etiqueta del eje x\n",
    "plt.ylabel('Recuento')  # Etiqueta del eje y\n",
    "plt.xticks(rotation=45, ha='right')  # Rotación de las etiquetas del eje x para una mejor legibilidad\n",
    "plt.show()  # Muestra el gráfico"
   ]
  },
  {
   "cell_type": "markdown",
   "metadata": {},
   "source": [
    "Redimensionamos las imagenes procedentes del dataframe:\n",
    "X lleva las imagenes\n",
    "Y las etiquetas que usaremos en el modelo"
   ]
  },
  {
   "cell_type": "code",
   "execution_count": 4,
   "metadata": {},
   "outputs": [],
   "source": [
    "x = []\n",
    "y = []\n",
    "z = []\n",
    "\n",
    "for i in range(len(df)):\n",
    "    # Carga la imagen desde el DataFrame\n",
    "    imagen_pil = df['Images'].iloc[i]\n",
    "\n",
    "    # Redimensiona la imagen a (200, 200) usando el filtro Lanczos,redimensionamiento de alta calidad.\n",
    "    imagen_redimensionada = imagen_pil.resize((200, 200), Image.LANCZOS)\n",
    "    \n",
    "    # Convierte la imagen redimensionada a un arreglo NumPy\n",
    "    ar = np.array(imagen_redimensionada)\n",
    "    \n",
    "    # Asegúrate de que todas las imágenes tengan la misma forma (200, 200, 3)\n",
    "    if ar.shape == (200, 200, 3):\n",
    "        # Agrega el arreglo al  x\n",
    "        x.append(ar)\n",
    "    else:\n",
    "        z.append(i)\n",
    "\n",
    "# Convierte las listas x e y en arreglos NumPy\n",
    "x = np.array(x)\n",
    "y = df['Genders']\n"
   ]
  },
  {
   "cell_type": "markdown",
   "metadata": {},
   "source": [
    "Guardamos en la variable Z las imagenes que no son posibles de redimensionar"
   ]
  },
  {
   "cell_type": "code",
   "execution_count": 5,
   "metadata": {},
   "outputs": [],
   "source": [
    "df.drop(z, inplace=True)"
   ]
  },
  {
   "cell_type": "markdown",
   "metadata": {},
   "source": [
    "Recoge en un arreglo de numpy todos los valores, sincronizandose con la X"
   ]
  },
  {
   "cell_type": "code",
   "execution_count": 7,
   "metadata": {},
   "outputs": [],
   "source": [
    "y = df['Genders'].values "
   ]
  },
  {
   "cell_type": "code",
   "execution_count": 9,
   "metadata": {},
   "outputs": [],
   "source": [
    "# Dividir el conjunto de datos en conjuntos de entrenamiento y prueba\n",
    "# X_train: Conjunto de datos de entrenamiento (imágenes)\n",
    "# X_test: Conjunto de datos de prueba (imágenes)\n",
    "# y_train: Etiquetas correspondientes al conjunto de entrenamiento\n",
    "# y_test: Etiquetas correspondientes al conjunto de prueba\n",
    "# Se utiliza train_test_split para dividir los datos, donde:\n",
    "# x: conjunto de imágenes\n",
    "# y: etiquetas de género\n",
    "# test_size=0.2: Tamaño del conjunto de prueba, en este caso el 20% de los datos se utilizan para pruebas\n",
    "# random_state=42: Semilla para la generación de números aleatorios, asegurando reproducibilidad en la división de datos\n",
    "X_train, X_test, y_train, y_test = train_test_split(x, y, test_size=0.2, random_state=42)\n"
   ]
  },
  {
   "cell_type": "markdown",
   "metadata": {},
   "source": [
    "CREAMOS EL MODELO CON SALIDA SIGMOID"
   ]
  },
  {
   "cell_type": "code",
   "execution_count": 11,
   "metadata": {},
   "outputs": [
    {
     "name": "stderr",
     "output_type": "stream",
     "text": [
      "2024-01-25 09:00:38.798199: W tensorflow/core/common_runtime/gpu/gpu_device.cc:1956] Cannot dlopen some GPU libraries. Please make sure the missing libraries mentioned above are installed properly if you would like to use GPU. Follow the guide at https://www.tensorflow.org/install/gpu for how to download and setup the required libraries for your platform.\n",
      "Skipping registering GPU devices...\n"
     ]
    }
   ],
   "source": [
    "# Inicialización del modelo secuencial\n",
    "genmodel = Sequential()\n",
    "\n",
    "# Capa convolucional 1\n",
    "genmodel.add(Conv2D(32, (3, 3), activation='relu', input_shape=(200, 200, 3)))\n",
    "genmodel.add(BatchNormalization())# Capa de normalización por lotes\n",
    "genmodel.add(Dropout(0.2))# Capa de abandono para regularización\n",
    "genmodel.add(MaxPooling2D((2, 2)))# Capa de agrupación máxima\n",
    "# Capa convolucional 2\n",
    "genmodel.add(Conv2D(64, (3, 3), activation='relu'))\n",
    "genmodel.add(BatchNormalization())# Capa de normalización por lotes\n",
    "genmodel.add(Dropout(0.2))# Capa de abandono para regularización\n",
    "genmodel.add(MaxPooling2D((2, 2)))# Capa de agrupación máxima\n",
    "# Capa convolucional 3\n",
    "genmodel.add(Conv2D(128, (3, 3), activation='relu'))\n",
    "genmodel.add(BatchNormalization())# Capa de normalización por lotes\n",
    "genmodel.add(Dropout(0.2))# Capa de abandono para regularización\n",
    "genmodel.add(MaxPooling2D((2, 2)))# Capa de agrupación máxima\n",
    "genmodel.add(Flatten())# Aplanamiento de la salida para conectarla a una capa densa\n",
    "\n",
    "\n",
    "# Capa densa totalmente conectada\n",
    "genmodel.add(Dense(128, activation='relu'))\n",
    "genmodel.add(BatchNormalization())# Capa de normalización por lotes\n",
    "genmodel.add(Dropout(0.2))# Capa de abandono para regularización\n",
    "# Capa de salida con activación sigmoidal para clasificación binaria\n",
    "genmodel.add(Dense(1, activation='sigmoid'))\n",
    "# Compilación del modelo\n",
    "genmodel.compile(loss='binary_crossentropy',\n",
    "                 optimizer=optimizers.Adam(),\n",
    "                 metrics=['accuracy'])\n"
   ]
  },
  {
   "cell_type": "code",
   "execution_count": null,
   "metadata": {},
   "outputs": [],
   "source": [
    "# tf.keras.backend.clear_session() para reiniciar la sesion"
   ]
  },
  {
   "cell_type": "markdown",
   "metadata": {},
   "source": [
    "Creamos un early stopping "
   ]
  },
  {
   "cell_type": "code",
   "execution_count": 12,
   "metadata": {},
   "outputs": [],
   "source": [
    "# Definición de EarlyStopping\n",
    "# monitor='val_loss': La métrica que se va a monitorear durante el entrenamiento. En este caso, se controla la pérdida en el conjunto de validación.\n",
    "# patience=5: Si no hay mejora después de estas épocas, el entrenamiento se detiene.\n",
    "# restore_best_weights=True: Especifica si restaurar los pesos del modelo a la mejor época observada. \n",
    "early_stopping = EarlyStopping(monitor='val_loss', patience=5, restore_best_weights=True)\n"
   ]
  },
  {
   "cell_type": "code",
   "execution_count": 13,
   "metadata": {},
   "outputs": [
    {
     "name": "stdout",
     "output_type": "stream",
     "text": [
      "Epoch 1/30\n",
      "417/417 [==============================] - 100s 236ms/step - loss: 0.6691 - accuracy: 0.6442 - val_loss: 0.7045 - val_accuracy: 0.6790\n",
      "Epoch 2/30\n",
      "417/417 [==============================] - 98s 236ms/step - loss: 0.5427 - accuracy: 0.7252 - val_loss: 1.1442 - val_accuracy: 0.6916\n",
      "Epoch 3/30\n",
      "417/417 [==============================] - 99s 237ms/step - loss: 0.4971 - accuracy: 0.7507 - val_loss: 0.6416 - val_accuracy: 0.6871\n",
      "Epoch 4/30\n",
      "417/417 [==============================] - 99s 237ms/step - loss: 0.4683 - accuracy: 0.7732 - val_loss: 0.5423 - val_accuracy: 0.7486\n",
      "Epoch 5/30\n",
      "417/417 [==============================] - 99s 236ms/step - loss: 0.3902 - accuracy: 0.8224 - val_loss: 0.5760 - val_accuracy: 0.7411\n",
      "Epoch 6/30\n",
      "417/417 [==============================] - 99s 236ms/step - loss: 0.3219 - accuracy: 0.8599 - val_loss: 0.9499 - val_accuracy: 0.7480\n",
      "Epoch 7/30\n",
      "417/417 [==============================] - 99s 237ms/step - loss: 0.2666 - accuracy: 0.8871 - val_loss: 0.7620 - val_accuracy: 0.7408\n",
      "Epoch 8/30\n",
      "417/417 [==============================] - 99s 236ms/step - loss: 0.2277 - accuracy: 0.9089 - val_loss: 0.8870 - val_accuracy: 0.7333\n",
      "Epoch 9/30\n",
      "417/417 [==============================] - 98s 236ms/step - loss: 0.1235 - accuracy: 0.9546 - val_loss: 1.3951 - val_accuracy: 0.7432\n"
     ]
    }
   ],
   "source": [
    "# Entrenamiento del modelo\n",
    "# X_train: Conjunto de datos de entrenamiento (imágenes)\n",
    "# y_train: Etiquetas correspondientes al conjunto de entrenamiento (Genero)\n",
    "# epochs=30: Número de épocas (iteraciones completas sobre el conjunto de datos de entrenamiento)\n",
    "# batch_size=16: Tamaño del lote de datos de entrenamiento que se utiliza en cada iteración\n",
    "# shuffle=True: Barajar los datos de entrenamiento en cada época para evitar el sesgo del modelo\n",
    "# verbose=1: Nivel de verbosidad durante el entrenamiento (muestra una barra de progreso por época)\n",
    "# validation_split=0.2: Proporción de los datos de entrenamiento que se utilizarán como conjunto de validación\n",
    "# callbacks=early_stopping: Utiliza la técnica de EarlyStopping definida previamente para detener el entrenamiento si no hay mejora en la pérdida en el conjunto de validación\n",
    "history = genmodel.fit(X_train, y_train, epochs=30, batch_size=32, shuffle=True, verbose=1, validation_split=0.2, callbacks=early_stopping)\n"
   ]
  },
  {
   "cell_type": "markdown",
   "metadata": {},
   "source": [
    "Evaluacion del primer modelo"
   ]
  },
  {
   "cell_type": "code",
   "execution_count": 14,
   "metadata": {},
   "outputs": [
    {
     "name": "stdout",
     "output_type": "stream",
     "text": [
      "  1/131 [..............................] - ETA: 10s - loss: 0.6248 - accuracy: 0.6875"
     ]
    },
    {
     "name": "stdout",
     "output_type": "stream",
     "text": [
      "131/131 [==============================] - 8s 57ms/step - loss: 0.5752 - accuracy: 0.7391\n"
     ]
    },
    {
     "data": {
      "text/plain": [
       "[0.575210452079773, 0.7391408681869507]"
      ]
     },
     "execution_count": 14,
     "metadata": {},
     "output_type": "execute_result"
    }
   ],
   "source": [
    "# Evaluación del modelo en el conjunto de datos de prueba\n",
    "# X_test: Conjunto de datos de prueba (imágenes)\n",
    "# y_test: Etiquetas correspondientes al conjunto de prueba\n",
    "resultado_evaluacion = genmodel.evaluate(X_test, y_test)\n"
   ]
  },
  {
   "cell_type": "markdown",
   "metadata": {},
   "source": [
    "OPTIMIZAMOS CON NUEVOS HIPERPARAMETROS (DATA AUMENTATION)"
   ]
  },
  {
   "cell_type": "code",
   "execution_count": 15,
   "metadata": {},
   "outputs": [
    {
     "name": "stdout",
     "output_type": "stream",
     "text": [
      "Epoch 1/25\n"
     ]
    },
    {
     "name": "stderr",
     "output_type": "stream",
     "text": [
      "2024-01-25 09:16:48.233948: I tensorflow/core/common_runtime/executor.cc:1197] [/device:CPU:0] (DEBUG INFO) Executor start aborting (this does not indicate an error and you can ignore this message): INVALID_ARGUMENT: You must feed a value for placeholder tensor 'Placeholder/_0' with dtype int32\n",
      "\t [[{{node Placeholder/_0}}]]\n"
     ]
    },
    {
     "name": "stdout",
     "output_type": "stream",
     "text": [
      "521/521 [==============================] - ETA: 0s - loss: 0.5256 - accuracy: 0.7308"
     ]
    },
    {
     "name": "stderr",
     "output_type": "stream",
     "text": [
      "2024-01-25 09:19:13.661446: I tensorflow/core/common_runtime/executor.cc:1197] [/device:CPU:0] (DEBUG INFO) Executor start aborting (this does not indicate an error and you can ignore this message): INVALID_ARGUMENT: You must feed a value for placeholder tensor 'Placeholder/_0' with dtype int32\n",
      "\t [[{{node Placeholder/_0}}]]\n"
     ]
    },
    {
     "name": "stdout",
     "output_type": "stream",
     "text": [
      "521/521 [==============================] - 153s 292ms/step - loss: 0.5256 - accuracy: 0.7308 - val_loss: 1.7756 - val_accuracy: 0.4963\n",
      "Epoch 2/25\n",
      "521/521 [==============================] - 151s 290ms/step - loss: 0.4869 - accuracy: 0.7595 - val_loss: 0.6959 - val_accuracy: 0.6542\n",
      "Epoch 3/25\n",
      "521/521 [==============================] - 152s 291ms/step - loss: 0.4640 - accuracy: 0.7707 - val_loss: 0.6953 - val_accuracy: 0.6347\n",
      "Epoch 4/25\n",
      "521/521 [==============================] - 152s 291ms/step - loss: 0.4595 - accuracy: 0.7753 - val_loss: 0.9436 - val_accuracy: 0.7442\n",
      "Epoch 5/25\n",
      "521/521 [==============================] - 151s 290ms/step - loss: 0.4349 - accuracy: 0.7909 - val_loss: 0.9856 - val_accuracy: 0.6355\n",
      "Epoch 6/25\n",
      "521/521 [==============================] - 151s 289ms/step - loss: 0.4237 - accuracy: 0.7974 - val_loss: 0.5416 - val_accuracy: 0.7531\n",
      "Epoch 7/25\n",
      "521/521 [==============================] - 151s 289ms/step - loss: 0.4038 - accuracy: 0.8101 - val_loss: 0.5204 - val_accuracy: 0.7677\n",
      "Epoch 8/25\n",
      "521/521 [==============================] - 151s 290ms/step - loss: 0.3844 - accuracy: 0.8195 - val_loss: 0.6909 - val_accuracy: 0.7183\n",
      "Epoch 9/25\n",
      "521/521 [==============================] - 152s 291ms/step - loss: 0.3775 - accuracy: 0.8243 - val_loss: 0.6471 - val_accuracy: 0.7370\n",
      "Epoch 10/25\n",
      "521/521 [==============================] - 152s 291ms/step - loss: 0.3670 - accuracy: 0.8320 - val_loss: 0.5234 - val_accuracy: 0.7564\n",
      "Epoch 11/25\n",
      "521/521 [==============================] - 151s 290ms/step - loss: 0.3489 - accuracy: 0.8427 - val_loss: 0.4382 - val_accuracy: 0.8167\n",
      "Epoch 12/25\n",
      "521/521 [==============================] - 151s 289ms/step - loss: 0.3523 - accuracy: 0.8407 - val_loss: 0.4483 - val_accuracy: 0.8080\n",
      "Epoch 13/25\n",
      "521/521 [==============================] - 151s 290ms/step - loss: 0.3386 - accuracy: 0.8469 - val_loss: 0.4318 - val_accuracy: 0.8231\n",
      "Epoch 14/25\n",
      "521/521 [==============================] - 151s 289ms/step - loss: 0.3338 - accuracy: 0.8510 - val_loss: 0.4363 - val_accuracy: 0.8051\n",
      "Epoch 15/25\n",
      "521/521 [==============================] - 152s 291ms/step - loss: 0.3208 - accuracy: 0.8571 - val_loss: 0.4835 - val_accuracy: 0.8006\n",
      "Epoch 16/25\n",
      "521/521 [==============================] - 151s 290ms/step - loss: 0.3107 - accuracy: 0.8610 - val_loss: 0.5553 - val_accuracy: 0.7874\n",
      "Epoch 17/25\n",
      "521/521 [==============================] - 151s 290ms/step - loss: 0.3133 - accuracy: 0.8612 - val_loss: 0.4144 - val_accuracy: 0.8282\n",
      "Epoch 18/25\n",
      "521/521 [==============================] - 152s 292ms/step - loss: 0.3044 - accuracy: 0.8673 - val_loss: 0.4248 - val_accuracy: 0.8258\n",
      "Epoch 19/25\n",
      "521/521 [==============================] - 152s 291ms/step - loss: 0.2927 - accuracy: 0.8721 - val_loss: 0.6321 - val_accuracy: 0.7927\n",
      "Epoch 20/25\n",
      "521/521 [==============================] - 151s 289ms/step - loss: 0.3028 - accuracy: 0.8677 - val_loss: 0.4953 - val_accuracy: 0.7780\n",
      "Epoch 21/25\n",
      "521/521 [==============================] - 150s 287ms/step - loss: 0.3241 - accuracy: 0.8537 - val_loss: 0.4310 - val_accuracy: 0.8145\n",
      "Epoch 22/25\n",
      "521/521 [==============================] - 151s 289ms/step - loss: 0.3093 - accuracy: 0.8644 - val_loss: 0.4864 - val_accuracy: 0.7994\n"
     ]
    }
   ],
   "source": [
    "# Data augmentation para el conjunto de entrenamiento\n",
    "datagen = ImageDataGenerator(\n",
    "    rescale=1./255.,  # Reescala los valores de píxeles al rango [0, 1]\n",
    "    width_shift_range=0.1,  # Desplazamiento horizontal aleatorio de las imágenes\n",
    "    height_shift_range=0.1,  # Desplazamiento vertical aleatorio de las imágenes\n",
    "    horizontal_flip=True  # Volteo horizontal aleatorio de las imágenes\n",
    ")\n",
    "\n",
    "# Preprocesamiento simple para el conjunto de prueba\n",
    "test_datagen = ImageDataGenerator(rescale=1./255)\n",
    "\n",
    "# Generación de flujos de datos para el conjunto de entrenamiento y prueba\n",
    "train2 = datagen.flow(X_train, y_train, batch_size=32)  # Flujos de datos para el conjunto de entrenamiento\n",
    "test2 = test_datagen.flow(X_test, y_test, batch_size=32)  # Flujos de datos para el conjunto de prueba\n",
    "\n",
    "# Entrenamiento del modelo con los flujos de datos generados\n",
    "history2 = genmodel.fit(\n",
    "    train2,  # Flujos de datos de entrenamiento\n",
    "    epochs=25,  # Número de épocas de entrenamiento\n",
    "    shuffle=True,  # Barajear los datos en cada época\n",
    "    validation_data=test2,  # Flujos de datos de validación\n",
    "    callbacks=[early_stopping]  # Lista de devoluciones de llamada, incluida la técnica de EarlyStopping\n",
    ")\n"
   ]
  },
  {
   "cell_type": "markdown",
   "metadata": {},
   "source": [
    "Comprobamos cual es el mejor epoch"
   ]
  },
  {
   "cell_type": "code",
   "execution_count": 17,
   "metadata": {},
   "outputs": [
    {
     "name": "stdout",
     "output_type": "stream",
     "text": [
      "La mejor época fue la número 4\n"
     ]
    }
   ],
   "source": [
    "best_epoch = np.argmin(history.history['val_loss']) + 1\n",
    "print(f\"La mejor época fue la número {best_epoch}\")\n",
    "# Se sumo uno porque los indices de python comienzan en 0 y las epocas por 1"
   ]
  },
  {
   "cell_type": "markdown",
   "metadata": {},
   "source": [
    "Guardamos modelo ya que da buenos resultados"
   ]
  },
  {
   "cell_type": "code",
   "execution_count": 39,
   "metadata": {},
   "outputs": [],
   "source": [
    "genmodel.save('modelogenero.h5')"
   ]
  },
  {
   "cell_type": "markdown",
   "metadata": {},
   "source": [
    "Redimensionamos la imagen que queramos predecir"
   ]
  },
  {
   "cell_type": "code",
   "execution_count": 35,
   "metadata": {},
   "outputs": [],
   "source": [
    "# Cargar la imagen y redimensionarla al tamaño deseado (200x200 píxeles)\n",
    "img = image.load_img('FotosTest/alyson.png', target_size=(200, 200))\n",
    "\n",
    "# Convertir la imagen a un arreglo NumPy y normalizar los valores de píxeles entre 0 y 1\n",
    "x = image.img_to_array(img) / 255\n",
    "\n",
    "# Agregar una dimensión adicional al arreglo para que coincida con la forma esperada por el modelo (1, 200, 200, 3)\n",
    "x = np.expand_dims(x, axis=0)\n",
    "\n",
    "# Apilar la imagen redimensionada y normalizada en un nuevo arreglo\n",
    "images = np.vstack([x])"
   ]
  },
  {
   "cell_type": "markdown",
   "metadata": {},
   "source": [
    "Procedemos a las predicciones"
   ]
  },
  {
   "cell_type": "code",
   "execution_count": 36,
   "metadata": {},
   "outputs": [
    {
     "name": "stdout",
     "output_type": "stream",
     "text": [
      "1/1 [==============================] - 0s 23ms/step\n",
      "Mujer\n"
     ]
    },
    {
     "data": {
      "image/jpeg": "[encoded data removed]",
      "image/png": "[encoded data removed]",
      "text/plain": [
       "<PIL.Image.Image image mode=RGB size=200x200>"
      ]
     },
     "execution_count": 36,
     "metadata": {},
     "output_type": "execute_result"
    }
   ],
   "source": [
    "# Realizar predicciones sobre la imagen utilizando el modelo\n",
    "a = genmodel.predict(images, batch_size=10)\n",
    "\n",
    "# Comparar la salida de la predicción con un umbral (0.5) para determinar el género\n",
    "if a < 0.5:\n",
    "    print(\"Hombre\")\n",
    "else:\n",
    "    print(\"Mujer\")\n",
    "\n",
    "# Mostrar la imagen\n",
    "img\n",
    "\n"
   ]
  }
 ],
 "metadata": {
  "kernelspec": {
   "display_name": "Python 3",
   "language": "python",
   "name": "python3"
  },
  "language_info": {
   "codemirror_mode": {
    "name": "ipython",
    "version": 3
   },
   "file_extension": ".py",
   "mimetype": "text/x-python",
   "name": "python",
   "nbconvert_exporter": "python",
   "pygments_lexer": "ipython3",
   "version": "3.10.0"
  }
 },
 "nbformat": 4,
 "nbformat_minor": 2
}
